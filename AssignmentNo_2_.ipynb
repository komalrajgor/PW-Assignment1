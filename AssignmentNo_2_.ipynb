{
  "nbformat": 4,
  "nbformat_minor": 0,
  "metadata": {
    "colab": {
      "provenance": [],
      "authorship_tag": "ABX9TyM3VP59WbkEEDb45Cav4AR7",
      "include_colab_link": true
    },
    "kernelspec": {
      "name": "python3",
      "display_name": "Python 3"
    },
    "language_info": {
      "name": "python"
    }
  },
  "cells": [
    {
      "cell_type": "markdown",
      "metadata": {
        "id": "view-in-github",
        "colab_type": "text"
      },
      "source": [
        "<a href=\"https://colab.research.google.com/github/komalrajgor/PW-Assignments/blob/main/AssignmentNo_2_.ipynb\" target=\"_parent\"><img src=\"https://colab.research.google.com/assets/colab-badge.svg\" alt=\"Open In Colab\"/></a>"
      ]
    },
    {
      "cell_type": "markdown",
      "source": [
        "Data Types and Structures"
      ],
      "metadata": {
        "id": "YjwJG7yrKNVk"
      }
    },
    {
      "cell_type": "markdown",
      "source": [
        "Theroy Questions"
      ],
      "metadata": {
        "id": "4b_DC_E-LaHL"
      }
    },
    {
      "cell_type": "markdown",
      "source": [
        "Q1. What are data structures, and why are they important?\n",
        "\n",
        "Ans. Data structures are organized ways to store, manage, and retrieve data efficiently. They help in optimizing code performance, memory usage, and make problem-solving easier."
      ],
      "metadata": {
        "id": "VqFaTQe7LesR"
      }
    },
    {
      "cell_type": "markdown",
      "source": [
        "Q2.  Explain the difference between mutable and immutable data types with examples?\n",
        "\n",
        "Ans. Mutable: Can be changed after creation (e.g., list, dict, set).\n",
        "\n",
        "Immutable: Cannot be changed after creation (e.g., int, float, str, tuple)\n",
        "\n"
      ],
      "metadata": {
        "id": "VaOWNj9aNZV6"
      }
    },
    {
      "cell_type": "code",
      "source": [
        "my_list = [1, 2]\n",
        "my_list[0] = 100\n",
        "print (my_list)"
      ],
      "metadata": {
        "colab": {
          "base_uri": "https://localhost:8080/"
        },
        "id": "eFGx6G1rNveG",
        "outputId": "f98eef26-9f0d-43cd-85fa-9fe72f70bb06"
      },
      "execution_count": null,
      "outputs": [
        {
          "output_type": "stream",
          "name": "stdout",
          "text": [
            "[100, 2]\n"
          ]
        }
      ]
    },
    {
      "cell_type": "code",
      "source": [
        "my_str = \"Hello\"\n",
        "my_str[0] = 'h'\n",
        "print(my_str)"
      ],
      "metadata": {
        "colab": {
          "base_uri": "https://localhost:8080/",
          "height": 176
        },
        "id": "Rodvz0tkODYO",
        "outputId": "47c1616c-0276-419f-f858-a61d3ae3ea91"
      },
      "execution_count": null,
      "outputs": [
        {
          "output_type": "error",
          "ename": "TypeError",
          "evalue": "'str' object does not support item assignment",
          "traceback": [
            "\u001b[0;31m---------------------------------------------------------------------------\u001b[0m",
            "\u001b[0;31mTypeError\u001b[0m                                 Traceback (most recent call last)",
            "\u001b[0;32m/tmp/ipython-input-11-2004139235.py\u001b[0m in \u001b[0;36m<cell line: 0>\u001b[0;34m()\u001b[0m\n\u001b[1;32m      1\u001b[0m \u001b[0mmy_str\u001b[0m \u001b[0;34m=\u001b[0m \u001b[0;34m\"Hello\"\u001b[0m\u001b[0;34m\u001b[0m\u001b[0;34m\u001b[0m\u001b[0m\n\u001b[0;32m----> 2\u001b[0;31m \u001b[0mmy_str\u001b[0m\u001b[0;34m[\u001b[0m\u001b[0;36m0\u001b[0m\u001b[0;34m]\u001b[0m \u001b[0;34m=\u001b[0m \u001b[0;34m'h'\u001b[0m\u001b[0;34m\u001b[0m\u001b[0;34m\u001b[0m\u001b[0m\n\u001b[0m\u001b[1;32m      3\u001b[0m \u001b[0mprint\u001b[0m\u001b[0;34m(\u001b[0m\u001b[0mmy_str\u001b[0m\u001b[0;34m)\u001b[0m\u001b[0;34m\u001b[0m\u001b[0;34m\u001b[0m\u001b[0m\n",
            "\u001b[0;31mTypeError\u001b[0m: 'str' object does not support item assignment"
          ]
        }
      ]
    },
    {
      "cell_type": "markdown",
      "source": [
        "Q3. What are the main differences between lists and tuples in Python?\n",
        "\n",
        "Ans. List: Mutable, dynamic, uses more memory.\n",
        "\n",
        "Tuple: Immutable, faster, used for fixed data"
      ],
      "metadata": {
        "id": "mjOrt2u4RfjH"
      }
    },
    {
      "cell_type": "markdown",
      "source": [
        "Q4. Describe how dictionaries store data?\n",
        "\n",
        "Ans.Dictionaries use hash tables to store data in key-value pairs. Each key is hashed to a unique index to allow fast lookup"
      ],
      "metadata": {
        "id": "CTy1I6bVS64u"
      }
    },
    {
      "cell_type": "markdown",
      "source": [
        "Q5. Why might you use a set instead of a list in Python?\n",
        "\n",
        "Ans. Sets automatically remove duplicates.\n",
        "\n",
        "Membership tests in set are faster than in lists"
      ],
      "metadata": {
        "id": "9S8lDBbtTPlM"
      }
    },
    {
      "cell_type": "markdown",
      "source": [
        "Q6. What is a string in Python, and how is it different from a list?\n",
        "\n",
        "Ans.String is data type used to represent sequence of characters.\n",
        "difference between-\n",
        "String: Sequence of characters, immutable.\n",
        "\n",
        "List: Sequence of any data type, mutable."
      ],
      "metadata": {
        "id": "0YIACWQIUD0j"
      }
    },
    {
      "cell_type": "markdown",
      "source": [
        "Q7. How do tuples ensure data integrity in Python?\n",
        "\n",
        "Ans Tuples are immutable, they protect the data from accidental modifications.\n",
        "\n"
      ],
      "metadata": {
        "id": "MR0MxDWIV_dH"
      }
    },
    {
      "cell_type": "markdown",
      "source": [
        "Q8. What is a hash table, and how does it relate to dictionaries in Python?\n",
        "\n",
        "Ans.Dictionaries use hash tables under the hood to allow fast access via keys."
      ],
      "metadata": {
        "id": "RmLsV_IgWezA"
      }
    },
    {
      "cell_type": "markdown",
      "source": [
        "Q9. Can lists contain different data types in Python?\n",
        "\n",
        "Ans. Yes, lists can contain different data types.\n"
      ],
      "metadata": {
        "id": "4H1plZmqUBJX"
      }
    },
    {
      "cell_type": "markdown",
      "source": [
        "Q10. Explain why strings are immutable in Python?\n",
        "\n",
        "Ans. Strings are immutable because they ensure memory efficiency, thread safety, and to enable hashing."
      ],
      "metadata": {
        "id": "vCi397DEMUET"
      }
    },
    {
      "cell_type": "markdown",
      "source": [
        "Q11. What advantages do dictionaries offer over lists for certain tasks?\n",
        "\n",
        "Ans. Faster lookups by key\n",
        "\n",
        "Better data labeling using keys"
      ],
      "metadata": {
        "id": "_bzGWUZDNWT7"
      }
    },
    {
      "cell_type": "markdown",
      "source": [
        "Q12. Describe a scenario where using a tuple would be preferable over a list?\n",
        "\n",
        "Ans. Tuple is used when data shouldn’t be modified and To use as dictionary keys when only immutable types allowed."
      ],
      "metadata": {
        "id": "ZB-xEESoN4e_"
      }
    },
    {
      "cell_type": "markdown",
      "source": [
        "Q13. How do sets handle duplicate values in Python?\n",
        "\n",
        "Ans.Sets remove duplicate values automaticlly"
      ],
      "metadata": {
        "id": "I0LeyoxlOeSB"
      }
    },
    {
      "cell_type": "markdown",
      "source": [
        "Q14. How does the “in” keyword work differently for lists and dictionaries?\n",
        "\n",
        "Ans. In List, it checks if the value exists where as in dictionary it checks if the key exists."
      ],
      "metadata": {
        "id": "Hl7jL1cDPCSD"
      }
    },
    {
      "cell_type": "markdown",
      "source": [
        "Q15. Can you modify the elements of a tuple? Explain why or why not?\n",
        "\n",
        "Ans. Tuple are immutable because they are stored with index numbers."
      ],
      "metadata": {
        "id": "s6aDe2C2Puib"
      }
    },
    {
      "cell_type": "markdown",
      "source": [],
      "metadata": {
        "id": "QQj3GlNoR198"
      }
    },
    {
      "cell_type": "markdown",
      "source": [
        "Q16. What is a nested dictionary, and give an example of its use case?\n",
        "\n",
        "Ans.A Nested dectionary is where atleast one of its value is another dictionary..\n",
        "\n",
        "Use case of this is to represent hierarchical, complex data"
      ],
      "metadata": {
        "id": "B7inh9ItR4fv"
      }
    },
    {
      "cell_type": "markdown",
      "source": [
        "Q17. Describe the time complexity of accessing elements in a dictionary?\n",
        "\n",
        "Ans. Accessing elements in a dictionary typically has a time complexity of O(1) on average, which means it takes constant time regardless of the dictionary's size. This is because dictionaries use a hash table internally to store and retrieve data, and hash table lookups are generally very fast"
      ],
      "metadata": {
        "id": "7cGRZPsJTVxD"
      }
    },
    {
      "cell_type": "markdown",
      "source": [
        "Q18. In what situations are lists preferred over dictionaries?\n",
        "\n",
        "Ans. Dictionaries are preferred for quick data lookups."
      ],
      "metadata": {
        "id": "obfg8ur2XK-X"
      }
    },
    {
      "cell_type": "markdown",
      "source": [
        "Q19. Why are dictionaries considered unordered, and how does that affect data retrieval?\n",
        "\n",
        "Ans.Dictionaries are Stored in Hash which are unoreded.\n"
      ],
      "metadata": {
        "id": "3MpR2B-8VodU"
      }
    },
    {
      "cell_type": "markdown",
      "source": [
        "Q20.  Explain the difference between a list and a dictionary in terms of data retrieval?\n",
        "\n",
        "Ans. In data retiving, list perform faster for ordered operations like sorting, whereas dictinoary performs faster for lookup operations."
      ],
      "metadata": {
        "id": "cNSp00S5WJt2"
      }
    },
    {
      "cell_type": "markdown",
      "source": [
        "Pratical Questions"
      ],
      "metadata": {
        "id": "Js88rPgmXleS"
      }
    },
    {
      "cell_type": "code",
      "source": [
        "#Q1 Write a code to create a string with your name and print it?\n",
        "animal = \"cat\"\n",
        "print(animal)"
      ],
      "metadata": {
        "id": "xHFdENDF5dui",
        "colab": {
          "base_uri": "https://localhost:8080/"
        },
        "outputId": "b7ad5c0e-6b2a-47b0-f727-5dc147d872eb"
      },
      "execution_count": null,
      "outputs": [
        {
          "output_type": "stream",
          "name": "stdout",
          "text": [
            "cat\n"
          ]
        }
      ]
    },
    {
      "cell_type": "code",
      "source": [
        "#Q2 Write a code to find the length of the string \"Hello World\"?\n",
        "print(len('Hello World'))"
      ],
      "metadata": {
        "id": "M5dTqb-96VV-",
        "colab": {
          "base_uri": "https://localhost:8080/"
        },
        "outputId": "d76ad93e-242e-4d0e-cc3b-eb592d3c8ad0"
      },
      "execution_count": null,
      "outputs": [
        {
          "output_type": "stream",
          "name": "stdout",
          "text": [
            "11\n"
          ]
        }
      ]
    },
    {
      "cell_type": "code",
      "source": [
        "#Q3 Write a code to slice the first 3 characters from the string \"Python Programming\"?\n",
        "print(\"Python Programming\"[:3])"
      ],
      "metadata": {
        "id": "RR36L6gR7EUv",
        "colab": {
          "base_uri": "https://localhost:8080/"
        },
        "outputId": "7201cd3d-f4dc-434a-8707-59e89023d999"
      },
      "execution_count": null,
      "outputs": [
        {
          "output_type": "stream",
          "name": "stdout",
          "text": [
            "Pyt\n"
          ]
        }
      ]
    },
    {
      "cell_type": "code",
      "source": [
        "#Q4 Write a code to convert the string \"hello\" to uppercase?\n",
        "print(\"hello\".upper())"
      ],
      "metadata": {
        "id": "G5MdX2Bz7seV",
        "colab": {
          "base_uri": "https://localhost:8080/"
        },
        "outputId": "eba45acd-a014-4245-cea5-4f1dc1b55961"
      },
      "execution_count": null,
      "outputs": [
        {
          "output_type": "stream",
          "name": "stdout",
          "text": [
            "HELLO\n"
          ]
        }
      ]
    },
    {
      "cell_type": "code",
      "source": [
        "#Q5 Write a code to replace the word \"apple\" with \"orange\" in the string \"I like apple\n",
        "print(\"I like apple\".replace(\"apple\", \"orange\"))"
      ],
      "metadata": {
        "id": "Ri-62GXa8oHG",
        "colab": {
          "base_uri": "https://localhost:8080/"
        },
        "outputId": "14f10f96-948d-403e-ab22-3a9b80ffaab9"
      },
      "execution_count": null,
      "outputs": [
        {
          "output_type": "stream",
          "name": "stdout",
          "text": [
            "I like orange\n"
          ]
        }
      ]
    },
    {
      "cell_type": "code",
      "source": [
        "#Q6 Write a code to create a list with numbers 1 to 5 and print it\n",
        "list = [1,2,3,4,5]\n",
        "print(list)"
      ],
      "metadata": {
        "id": "uKscsMan9h8O",
        "colab": {
          "base_uri": "https://localhost:8080/"
        },
        "outputId": "41838345-904b-458a-c967-253534c1aa30"
      },
      "execution_count": null,
      "outputs": [
        {
          "output_type": "stream",
          "name": "stdout",
          "text": [
            "[1, 2, 3, 4, 5]\n"
          ]
        }
      ]
    },
    {
      "cell_type": "code",
      "source": [
        "#Q7 Write a code to append the number 10 to the list [1, 2, 3, 4]?\n",
        "list = [1,2,3,4]\n",
        "list.append(10)\n",
        "print(list)"
      ],
      "metadata": {
        "id": "cktZaFAq91Nw",
        "colab": {
          "base_uri": "https://localhost:8080/"
        },
        "outputId": "d564f199-9458-4508-fd61-620bc5f41b17"
      },
      "execution_count": null,
      "outputs": [
        {
          "output_type": "stream",
          "name": "stdout",
          "text": [
            "[1, 2, 3, 4, 10]\n"
          ]
        }
      ]
    },
    {
      "cell_type": "code",
      "source": [
        "#Q8 Write a code to remove the number 3 from the list [1, 2, 3, 4, 5]\n",
        "list = [1,2,3,4,5]\n",
        "list.remove(3)\n",
        "print(list)"
      ],
      "metadata": {
        "id": "Ze137Iij9_To",
        "colab": {
          "base_uri": "https://localhost:8080/"
        },
        "outputId": "9baf5c39-3115-4155-cfa4-7d84ac78aadc"
      },
      "execution_count": null,
      "outputs": [
        {
          "output_type": "stream",
          "name": "stdout",
          "text": [
            "[1, 2, 4, 5]\n"
          ]
        }
      ]
    },
    {
      "cell_type": "code",
      "source": [
        "#Q9  Write a code to access the second element in the list ['a', 'b', 'c', 'd']\n",
        "A = ['a', 'b', 'c', 'd']\n",
        "print(A[1])"
      ],
      "metadata": {
        "id": "dHUzCPy9-MaY",
        "colab": {
          "base_uri": "https://localhost:8080/"
        },
        "outputId": "c2a101d1-4790-4ed9-b785-d7ebd925818b"
      },
      "execution_count": null,
      "outputs": [
        {
          "output_type": "stream",
          "name": "stdout",
          "text": [
            "b\n"
          ]
        }
      ]
    },
    {
      "cell_type": "code",
      "source": [
        "#Q10 Write a code to reverse the list [10, 20, 30, 40, 50].\n",
        "print([10, 20, 30, 40, 50][::-1])"
      ],
      "metadata": {
        "id": "Y9Jqrun_-t6X",
        "colab": {
          "base_uri": "https://localhost:8080/"
        },
        "outputId": "ed88bd09-7c35-4c0a-a11b-6bcc75e8d04e"
      },
      "execution_count": null,
      "outputs": [
        {
          "output_type": "stream",
          "name": "stdout",
          "text": [
            "[50, 40, 30, 20, 10]\n"
          ]
        }
      ]
    },
    {
      "cell_type": "code",
      "source": [
        "#Q11 Write a code to create a tuple with the elements 100, 200, 300 and print it\n",
        "my_tuple = (100,200,300)\n",
        "print(my_tuple[:3])"
      ],
      "metadata": {
        "id": "RsnvkEd0-_5A",
        "colab": {
          "base_uri": "https://localhost:8080/"
        },
        "outputId": "f71419ad-57a4-48dd-da56-39d2b297cbc3"
      },
      "execution_count": null,
      "outputs": [
        {
          "output_type": "stream",
          "name": "stdout",
          "text": [
            "(100, 200, 300)\n"
          ]
        }
      ]
    },
    {
      "cell_type": "code",
      "source": [
        "#Q12 Write a code to access the second-to-last element of the tuple ('red', 'green', 'blue', 'yellow').\n",
        "colors = ('red', 'green', 'blue', 'yellow')\n",
        "print(colors[-2])"
      ],
      "metadata": {
        "id": "3cXie7gi_Nrs",
        "colab": {
          "base_uri": "https://localhost:8080/"
        },
        "outputId": "03e04b5d-3184-4427-811f-2c18f04df8d9"
      },
      "execution_count": null,
      "outputs": [
        {
          "output_type": "stream",
          "name": "stdout",
          "text": [
            "blue\n"
          ]
        }
      ]
    },
    {
      "cell_type": "code",
      "source": [
        "#Q13 Write a code to find the minimum number in the tuple (10, 20, 5, 15).\n",
        "print(min((10, 20, 5, 15)))"
      ],
      "metadata": {
        "colab": {
          "base_uri": "https://localhost:8080/"
        },
        "id": "JFglp3mVEsat",
        "outputId": "51987eb7-98be-4f74-bfd3-d5aec1881e2c"
      },
      "execution_count": null,
      "outputs": [
        {
          "output_type": "stream",
          "name": "stdout",
          "text": [
            "5\n"
          ]
        }
      ]
    },
    {
      "cell_type": "code",
      "source": [
        "#Q14 Write a code to find the index of the element \"cat\" in the tuple ('dog', 'cat', 'rabbit')\n",
        "print(('dog', 'cat', 'rabbit').index(\"cat\"))\n",
        "\n"
      ],
      "metadata": {
        "id": "cJJ8WoYdEyvw",
        "colab": {
          "base_uri": "https://localhost:8080/"
        },
        "outputId": "7c397c50-3673-410e-ea80-337054a3d6b0"
      },
      "execution_count": 24,
      "outputs": [
        {
          "output_type": "stream",
          "name": "stdout",
          "text": [
            "1\n"
          ]
        }
      ]
    },
    {
      "cell_type": "code",
      "source": [
        "#Q15 Write a code to create a tuple containing three different fruits and check if \"kiwi\" is in it.\n",
        "fruits = (\"apple\", \"banana\", \"mango\")\n",
        "print(\"kiwi\" in fruits)"
      ],
      "metadata": {
        "colab": {
          "base_uri": "https://localhost:8080/"
        },
        "id": "cayq6H2vFBpP",
        "outputId": "ed8f03e9-e423-457a-c0ba-68d9af228856"
      },
      "execution_count": 25,
      "outputs": [
        {
          "output_type": "stream",
          "name": "stdout",
          "text": [
            "False\n"
          ]
        }
      ]
    },
    {
      "cell_type": "code",
      "source": [
        "#Q16  Write a code to create a set with the elements 'a', 'b', 'c' and print it.\n",
        "s = {'a', 'b', 'c'}\n",
        "print(s)"
      ],
      "metadata": {
        "colab": {
          "base_uri": "https://localhost:8080/"
        },
        "id": "GOOgJ9_SFI4C",
        "outputId": "5f0b07fe-850b-4922-ddec-495fa7ece873"
      },
      "execution_count": 26,
      "outputs": [
        {
          "output_type": "stream",
          "name": "stdout",
          "text": [
            "{'b', 'a', 'c'}\n"
          ]
        }
      ]
    },
    {
      "cell_type": "code",
      "source": [
        "#Q17 Write a code to clear all elements from the set {1, 2, 3, 4, 5}.\n",
        "s = {1, 2, 3, 4, 5}\n",
        "s.clear()\n",
        "print(s)"
      ],
      "metadata": {
        "colab": {
          "base_uri": "https://localhost:8080/"
        },
        "id": "tcxBekGPFTIJ",
        "outputId": "6dba1ac9-210c-4a38-c829-8eec2290f817"
      },
      "execution_count": 27,
      "outputs": [
        {
          "output_type": "stream",
          "name": "stdout",
          "text": [
            "set()\n"
          ]
        }
      ]
    },
    {
      "cell_type": "code",
      "source": [
        "#Q18 Write a code to remove the element 4 from the set {1, 2, 3, 4}.\n",
        "s = {1, 2, 3, 4}\n",
        "s.remove(4)\n",
        "print(s)"
      ],
      "metadata": {
        "colab": {
          "base_uri": "https://localhost:8080/"
        },
        "id": "DjhmcrafGTEk",
        "outputId": "3e0b2475-2e75-43d0-8de5-cf80eab66c63"
      },
      "execution_count": 29,
      "outputs": [
        {
          "output_type": "stream",
          "name": "stdout",
          "text": [
            "{1, 2, 3}\n"
          ]
        }
      ]
    },
    {
      "cell_type": "code",
      "source": [
        "#Q19 Write a code to find the union of two sets {1, 2, 3} and {3, 4, 5}.\n",
        "print({1, 2, 3}.union({3, 4, 5}))"
      ],
      "metadata": {
        "colab": {
          "base_uri": "https://localhost:8080/"
        },
        "id": "aQQ-oRRyGlLG",
        "outputId": "28478add-3fb9-40cc-c4cc-f0e4cf53beba"
      },
      "execution_count": 30,
      "outputs": [
        {
          "output_type": "stream",
          "name": "stdout",
          "text": [
            "{1, 2, 3, 4, 5}\n"
          ]
        }
      ]
    },
    {
      "cell_type": "code",
      "source": [
        "#Q20  Write a code to find the intersection of two sets {1, 2, 3} and {2, 3, 4}.\n",
        "print({1, 2, 3}.intersection({2, 3, 4}))"
      ],
      "metadata": {
        "colab": {
          "base_uri": "https://localhost:8080/"
        },
        "id": "PWG6c3-MG0_D",
        "outputId": "6286090c-c413-42b5-a910-17ce8cdc3932"
      },
      "execution_count": 32,
      "outputs": [
        {
          "output_type": "stream",
          "name": "stdout",
          "text": [
            "{2, 3}\n"
          ]
        }
      ]
    },
    {
      "cell_type": "code",
      "source": [
        "#Q21 Write a code to create a dictionary with the keys \"name\", \"age\", and \"city\", and print it\n",
        "my_dict = {\"name\": \"John\", \"age\": 30, \"city\": \"New York\"}\n",
        "print(my_dict)"
      ],
      "metadata": {
        "colab": {
          "base_uri": "https://localhost:8080/"
        },
        "id": "iOTHnDqvG8Yb",
        "outputId": "80ec8684-b168-4b96-8c7f-10deeaecd308"
      },
      "execution_count": 33,
      "outputs": [
        {
          "output_type": "stream",
          "name": "stdout",
          "text": [
            "{'name': 'John', 'age': 30, 'city': 'New York'}\n"
          ]
        }
      ]
    },
    {
      "cell_type": "code",
      "source": [
        "#Q22 Write a code to add a new key-value pair \"country\": \"USA\" to the dictionary {'name': 'John', 'age': 25}.\n",
        "my_dict = {'name': 'John', 'age': 25}\n",
        "my_dict[\"country\"] = \"USA\"\n",
        "print(my_dict)"
      ],
      "metadata": {
        "colab": {
          "base_uri": "https://localhost:8080/"
        },
        "id": "KMPYauRwHhGc",
        "outputId": "c882f582-d825-4151-80ef-7e3c5e7142fe"
      },
      "execution_count": 34,
      "outputs": [
        {
          "output_type": "stream",
          "name": "stdout",
          "text": [
            "{'name': 'John', 'age': 25, 'country': 'USA'}\n"
          ]
        }
      ]
    },
    {
      "cell_type": "code",
      "source": [
        "#Q23  Write a code to access the value associated with the key \"name\" in the dictionary {'name': 'Alice', 'age': 30}.\n",
        "my_dict = {'name': 'Alice', 'age': 30}\n",
        "print(my_dict[\"name\"])"
      ],
      "metadata": {
        "colab": {
          "base_uri": "https://localhost:8080/"
        },
        "id": "q9TGmkJAHrAb",
        "outputId": "d551afc0-4ba1-4506-8489-e4bdabdbfda4"
      },
      "execution_count": 36,
      "outputs": [
        {
          "output_type": "stream",
          "name": "stdout",
          "text": [
            "Alice\n"
          ]
        }
      ]
    },
    {
      "cell_type": "code",
      "source": [
        "#Q24 Write a code to remove the key \"age\" from the dictionary {'name': 'Bob', 'age': 22, 'city': 'New York'}.\n",
        "my_dict = {'name': 'Bob', 'age': 22, 'city': 'New York'}\n",
        "del my_dict[\"age\"]\n",
        "print(my_dict)"
      ],
      "metadata": {
        "colab": {
          "base_uri": "https://localhost:8080/"
        },
        "id": "m2s00MycHvo3",
        "outputId": "bb475a9c-dcc8-42c2-e526-a8de66d9c997"
      },
      "execution_count": 37,
      "outputs": [
        {
          "output_type": "stream",
          "name": "stdout",
          "text": [
            "{'name': 'Bob', 'city': 'New York'}\n"
          ]
        }
      ]
    },
    {
      "cell_type": "code",
      "source": [
        "#Q25  Write a code to check if the key \"city\" exists in the dictionary {'name': 'Alice', 'city': 'Paris'}.\n",
        "my_dict = {'name': 'Alice', 'city': 'Paris'}\n",
        "print(\"city\" in my_dict)"
      ],
      "metadata": {
        "colab": {
          "base_uri": "https://localhost:8080/"
        },
        "id": "LU6pNvyKIB84",
        "outputId": "8be2e255-0762-41a6-c57c-938b99fc2f4f"
      },
      "execution_count": 38,
      "outputs": [
        {
          "output_type": "stream",
          "name": "stdout",
          "text": [
            "True\n"
          ]
        }
      ]
    },
    {
      "cell_type": "code",
      "source": [
        "#Q26 Write a code to create a list, a tuple, and a dictionary, and print them all.\n",
        "my_list = [1,2,3]\n",
        "my_tuple = (1,2,3)\n",
        "my_dict = {\"name\": \"John\", \"age\": 30, \"city\": \"New York\"}\n",
        "print(my_list)\n",
        "print(my_tuple)\n",
        "print(my_dict)"
      ],
      "metadata": {
        "colab": {
          "base_uri": "https://localhost:8080/"
        },
        "id": "4Q0jsgflIKEC",
        "outputId": "5f105f7c-67fb-44a7-be51-19282fdb8fa8"
      },
      "execution_count": 43,
      "outputs": [
        {
          "output_type": "stream",
          "name": "stdout",
          "text": [
            "[1, 2, 3]\n",
            "(1, 2, 3)\n",
            "{'name': 'John', 'age': 30, 'city': 'New York'}\n"
          ]
        }
      ]
    },
    {
      "cell_type": "code",
      "source": [
        "#Q27 Write a code to create a list of 5 random numbers between 1 and 100, sort it in ascending order, and print the\n",
        "#result.(replaced)\n",
        "import random\n",
        "random_numbers = [random.randint(1, 100) for _ in range(5)]\n",
        "random_numbers.sort()\n",
        "print(random_numbers)\n"
      ],
      "metadata": {
        "colab": {
          "base_uri": "https://localhost:8080/"
        },
        "id": "Be5to0KFIUhB",
        "outputId": "9f6d10e3-47ea-4a70-b71f-5daef3abec8a"
      },
      "execution_count": 44,
      "outputs": [
        {
          "output_type": "stream",
          "name": "stdout",
          "text": [
            "[44, 48, 74, 85, 92]\n"
          ]
        }
      ]
    },
    {
      "cell_type": "code",
      "source": [
        "#Q28 Write a code to create a list with strings and print the element at the third index.\n",
        "my_list = [\"apple\", \"banana\", \"cherry\", \"date\", \"elderberry\"]\n",
        "print(my_list[2])"
      ],
      "metadata": {
        "colab": {
          "base_uri": "https://localhost:8080/"
        },
        "id": "6LdiQt6cIv9C",
        "outputId": "85a2690d-bb1e-47d3-c71a-8f553d20134f"
      },
      "execution_count": 47,
      "outputs": [
        {
          "output_type": "stream",
          "name": "stdout",
          "text": [
            "cherry\n"
          ]
        }
      ]
    },
    {
      "cell_type": "code",
      "source": [
        "#Q29  Write a code to combine two dictionaries into one and print the result.\n",
        "dict1 = {\"a\": 1, \"b\": 2}\n",
        "dict2 = {\"c\": 3, \"d\": 4}\n",
        "dict1.update(dict2)\n",
        "print(dict1)"
      ],
      "metadata": {
        "colab": {
          "base_uri": "https://localhost:8080/"
        },
        "id": "y1s6gjOBJaNZ",
        "outputId": "427a089c-f9c0-4481-d92d-0813e347b2b3"
      },
      "execution_count": 48,
      "outputs": [
        {
          "output_type": "stream",
          "name": "stdout",
          "text": [
            "{'a': 1, 'b': 2, 'c': 3, 'd': 4}\n"
          ]
        }
      ]
    },
    {
      "cell_type": "code",
      "source": [
        "#Q30 Write a code to convert a list of strings into a set.\n",
        "print(set([\"apple\", \"banana\", \"cherry\"]))"
      ],
      "metadata": {
        "colab": {
          "base_uri": "https://localhost:8080/"
        },
        "id": "gJHjlM26Jhad",
        "outputId": "350e192c-e6ae-4efe-d01e-ce839e64b895"
      },
      "execution_count": 49,
      "outputs": [
        {
          "output_type": "stream",
          "name": "stdout",
          "text": [
            "{'apple', 'banana', 'cherry'}\n"
          ]
        }
      ]
    }
  ]
}