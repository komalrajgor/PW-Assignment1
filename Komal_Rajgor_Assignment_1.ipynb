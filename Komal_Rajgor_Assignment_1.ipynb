{
  "nbformat": 4,
  "nbformat_minor": 0,
  "metadata": {
    "colab": {
      "provenance": [],
      "include_colab_link": true
    },
    "kernelspec": {
      "name": "python3",
      "display_name": "Python 3"
    },
    "language_info": {
      "name": "python"
    }
  },
  "cells": [
    {
      "cell_type": "markdown",
      "metadata": {
        "id": "view-in-github",
        "colab_type": "text"
      },
      "source": [
        "<a href=\"https://colab.research.google.com/github/komalrajgor/PW-Assignment1/blob/main/Komal_Rajgor_Assignment_1.ipynb\" target=\"_parent\"><img src=\"https://colab.research.google.com/assets/colab-badge.svg\" alt=\"Open In Colab\"/></a>"
      ]
    },
    {
      "cell_type": "markdown",
      "source": [
        "Theory Questions"
      ],
      "metadata": {
        "id": "OaUwXq1xdzbs"
      }
    },
    {
      "cell_type": "markdown",
      "source": [
        "Q1 What is Python, and why is it popular?\n",
        "\n",
        "Ans-> Python is a programming language which is used to instruct with set of rules and symboles.\n",
        "  \n",
        "  1- It is easy to read, write, and learn\n",
        "\n",
        "  2- It has a vast libraries which saves time\n",
        "\n",
        "  3- It is versatility—you can use it for data science, web development, AI, automation etc.\n",
        "\n",
        "  4- It has a huge active community\n",
        "\n",
        "Q2 What is an interpreter in Python?\n",
        "\n",
        "Ans -> An interpreter in Python is a program that executes Python code line by line, translating it into machine-readable instructions, allowing you to write and test code interactively or execute code.\n",
        "\n",
        "\n",
        "Q3 What are pre-defined keywords in Python?\n",
        "\n",
        "Ans-> These are special words that like if, while, def, etc. which have predefined meaning and usages\n",
        "\n",
        "Q4 Can keywords be used as variable names?\n",
        "\n",
        "Ans-> Nope, if keywords are used as veriable names than it is linked to the value and stops functioning its predefined task.\n",
        "\n",
        "Q5 What is mutability in Python?\n",
        "\n",
        "Ans->Mutability means \"can be changed.\" Lists, for example, are mutable because you can add or remove items from them.\n",
        "\n",
        "Q6 Why are lists mutable, but tuples are immutable?\n",
        "\n",
        "Ans->Lists are used when you expect to change data later. Tuples are used when you want to keep data safe and constant. This immutability ensures data integrity and allows tuples to be used as keys in dictionaries or elements in sets whereas list can be modified in place without creating a new object. This makes lists highly flexible and efficient for operations like appending, slicing, or updating elements.\n",
        "\n",
        "Q7 What is the difference between == and is?\n",
        "\n",
        "Ans-> == checks if values are equal (like comparing two identical objects), while is checks if both things are actually the same person (same memory location).\n",
        "\n",
        "Q8 What are logical operators in Python?\n",
        "\n",
        "Ans-> Logical operators in Python help make decisions\n",
        "\n",
        "and: Both conditions must be true.\n",
        "\n",
        "or: At least one should be true.\n",
        "\n",
        "not: Reverses the condition.\n",
        "\n",
        "Q9 What is type casting in Python?\n",
        "\n",
        "Ans-> Type casting is just converting one type into another, like turning a string \"11\" into an integer 11. It is useful when taking input from users.\n",
        "\n",
        "Q10 Difference between implicit and explicit type casting?\n",
        "\n",
        "Ans-> Implicit:  The Python interpreter automatically converts one data type to another without user intervention it heppends when there is no risk of data loss\n",
        "\n",
        "Explicit: The programmer manually converts one data type to another using type conversion functions.\n",
        "\n",
        "Q11 What is the purpose of conditional statements in Python?\n",
        "\n",
        "Ans-> Conditional statements like if, elif, and else help your program choose what to do based on the situation.\n",
        "\n",
        "if: Executes a block of code if the condition is True.\n",
        "\n",
        "elif: Adds additional conditions to check if the first condition is False.\n",
        "\n",
        "else: Executes a block of code if all previous conditions are False\n",
        "\n",
        "Q12 How does the elif statement work?\n",
        "\n",
        "Ans-> The elif statement in Python is used as part of conditional statements to check multiple conditions sequentially. It allows you to test additional conditions if the previous ones are not true.\n",
        "\n",
        "Q13 What is the difference between for and while loops?\n",
        "\n",
        "Ans-> For loop is used to iterate over a sequence (like a list, tuple, or range) with a known number of iterations. It's ideal when you know the collection or range beforehand.\n",
        "\n",
        "While loop is usedExecutes as long as a condition is True. It's better for scenarios where the number of iterations isn't predetermined"
      ],
      "metadata": {
        "id": "pHE4t-xF_xUY"
      }
    },
    {
      "cell_type": "markdown",
      "source": [
        "Practical Questions"
      ],
      "metadata": {
        "id": "8Gm0BGc-duyf"
      }
    },
    {
      "cell_type": "code",
      "execution_count": null,
      "metadata": {
        "colab": {
          "base_uri": "https://localhost:8080/"
        },
        "id": "uurqOD4597Qc",
        "outputId": "0a1187b9-933c-43b3-c67e-6c30ac98c40b"
      },
      "outputs": [
        {
          "output_type": "stream",
          "name": "stdout",
          "text": [
            "Hello, World!\n"
          ]
        }
      ],
      "source": [
        " # 1. Write a Python program to print \"Hello, World!\"\n",
        "print(\"Hello, World!\")"
      ]
    },
    {
      "cell_type": "code",
      "source": [
        "# 2. Write a Python program that displays your name and age.\n",
        "name = \"Komal\"\n",
        "age = 26\n",
        "print(\"My name is\", name, \"and I am\", age, \"years old.\")"
      ],
      "metadata": {
        "colab": {
          "base_uri": "https://localhost:8080/"
        },
        "id": "Vl-UOywrEwWE",
        "outputId": "1af29ef6-c333-4904-a5e9-9035c22cda62"
      },
      "execution_count": null,
      "outputs": [
        {
          "output_type": "stream",
          "name": "stdout",
          "text": [
            "My name is Komal and I am 26 years old.\n"
          ]
        }
      ]
    },
    {
      "cell_type": "code",
      "source": [
        "# 3. Write code to print all the pre-defined keywords in Python using the keyword library.\n",
        "import keyword\n",
        "print(\"Python keywords are:\")\n",
        "print(keyword.kwlist)"
      ],
      "metadata": {
        "colab": {
          "base_uri": "https://localhost:8080/"
        },
        "id": "CNL-PAz6E3J3",
        "outputId": "1a9dd78d-e711-45fe-8421-b95fdb8de4dc"
      },
      "execution_count": null,
      "outputs": [
        {
          "output_type": "stream",
          "name": "stdout",
          "text": [
            "Python keywords are:\n",
            "['False', 'None', 'True', 'and', 'as', 'assert', 'async', 'await', 'break', 'class', 'continue', 'def', 'del', 'elif', 'else', 'except', 'finally', 'for', 'from', 'global', 'if', 'import', 'in', 'is', 'lambda', 'nonlocal', 'not', 'or', 'pass', 'raise', 'return', 'try', 'while', 'with', 'yield']\n"
          ]
        }
      ]
    },
    {
      "cell_type": "code",
      "source": [
        "# 4. Write a program that checks if a given word is a Python keyword.\n",
        "import keyword\n",
        "word = input(\"Enter a word: \")\n",
        "if keyword.iskeyword(word):\n",
        "    print(f\"'{word}' is a Python keyword.\")\n",
        "else:\n",
        "    print(f\"'{word}' is NOT a Python keyword.\")\n"
      ],
      "metadata": {
        "colab": {
          "base_uri": "https://localhost:8080/"
        },
        "id": "GJOov9z4FBTv",
        "outputId": "2998d846-21cf-438a-a07f-5ae4000c3954"
      },
      "execution_count": 1,
      "outputs": [
        {
          "output_type": "stream",
          "name": "stdout",
          "text": [
            "Enter a word: komal\n",
            "'komal' is NOT a Python keyword.\n"
          ]
        }
      ]
    },
    {
      "cell_type": "code",
      "source": [
        "# 5. Create a list and tuple in Python, and demonstrate how attempting to change an element works differently for each.\n",
        "my_list = [1, 2, 3]\n",
        "my_tuple = (1, 2, 3)\n",
        "\n",
        "my_list[0] = 99  # Works\n",
        "try:\n",
        "    my_tuple[0] = 99  # Will raise an error\n",
        "except TypeError:\n",
        "    print(\"You can't change values in a tuple.\")\n",
        "\n",
        "print(\"List:\", my_list)\n",
        "print(\"Tuple:\", my_tuple)\n"
      ],
      "metadata": {
        "colab": {
          "base_uri": "https://localhost:8080/"
        },
        "id": "vkxRdUjdFbuG",
        "outputId": "b78b23ba-e72a-4691-abed-6518a4078fb0"
      },
      "execution_count": null,
      "outputs": [
        {
          "output_type": "stream",
          "name": "stdout",
          "text": [
            "You can't change values in a tuple.\n",
            "List: [99, 2, 3]\n",
            "Tuple: (1, 2, 3)\n"
          ]
        }
      ]
    },
    {
      "cell_type": "code",
      "source": [
        "# 6. Write a function to demonstrate the behavior of mutable and immutable arguments.\n",
        "def modify_list(l):\n",
        "    l.append(100)\n",
        "\n",
        "def modify_int(i):\n",
        "    i += 10\n",
        "    return i\n",
        "\n",
        "my_list = [1, 2, 3]\n",
        "my_int = 5\n",
        "\n",
        "modify_list(my_list)\n",
        "my_int = modify_int(my_int)\n",
        "\n",
        "print(\"List after function:\", my_list)\n",
        "print(\"Int after function:\", my_int)\n"
      ],
      "metadata": {
        "colab": {
          "base_uri": "https://localhost:8080/"
        },
        "id": "UxqClgiuF0Rt",
        "outputId": "fdc158d1-f8a5-44ce-c12e-b8a99c5bbfbb"
      },
      "execution_count": null,
      "outputs": [
        {
          "output_type": "stream",
          "name": "stdout",
          "text": [
            "List after function: [1, 2, 3, 100]\n",
            "Int after function: 15\n"
          ]
        }
      ]
    },
    {
      "cell_type": "code",
      "source": [
        "# 7 Write a program that performs basic arithmetic operations on two user inputs numbers\n",
        "a = int(input(\"Enter first number: \"))\n",
        "b = int(input(\"Enter second number: \"))\n",
        "\n",
        "print(\"Sum:\", a + b)\n",
        "print(\"Difference:\", a - b)\n",
        "print(\"Product:\", a * b)\n",
        "print(\"Quotient:\", a / b)"
      ],
      "metadata": {
        "colab": {
          "base_uri": "https://localhost:8080/"
        },
        "id": "PAV2wJXwGf_h",
        "outputId": "de9157e9-72b4-46e3-efa8-8c0fc2615ec5"
      },
      "execution_count": 2,
      "outputs": [
        {
          "output_type": "stream",
          "name": "stdout",
          "text": [
            "Enter first number: 4\n",
            "Enter second number: 7\n",
            "Sum: 11\n",
            "Difference: -3\n",
            "Product: 28\n",
            "Quotient: 0.5714285714285714\n"
          ]
        }
      ]
    },
    {
      "cell_type": "code",
      "source": [
        "# 8. Write a program to demonstrate the use of logical operators.\n",
        "x = 5\n",
        "y = 10\n",
        "\n",
        "print(x > 3 and y > 5)   # True\n",
        "print(x < 3 or y > 5)    # True\n",
        "print(not(x > 3))        # False"
      ],
      "metadata": {
        "colab": {
          "base_uri": "https://localhost:8080/"
        },
        "id": "Y2TQn_QcGtz_",
        "outputId": "28af187a-fc18-4fc5-d7f5-ac4273e86672"
      },
      "execution_count": null,
      "outputs": [
        {
          "output_type": "stream",
          "name": "stdout",
          "text": [
            "True\n",
            "True\n",
            "False\n"
          ]
        }
      ]
    },
    {
      "cell_type": "code",
      "source": [
        "# 9. Write a Python program to convert user input from string to integer, float, and boolean types.\n",
        "user_input = input(\"Enter a number: \")\n",
        "\n",
        "int_value = int(user_input)\n",
        "float_value = float(user_input)\n",
        "bool_value = bool(user_input)\n",
        "\n",
        "print(\"As integer:\", int_value)\n",
        "print(\"As float:\", float_value)\n",
        "print(\"As boolean:\", bool_value)"
      ],
      "metadata": {
        "colab": {
          "base_uri": "https://localhost:8080/"
        },
        "id": "iCh-W7qtG9QK",
        "outputId": "a3549c04-cfa0-46c8-a48e-d648497b1dd5"
      },
      "execution_count": null,
      "outputs": [
        {
          "output_type": "stream",
          "name": "stdout",
          "text": [
            "Enter a number: 6\n",
            "As integer: 6\n",
            "As float: 6.0\n",
            "As boolean: True\n"
          ]
        }
      ]
    },
    {
      "cell_type": "code",
      "source": [
        "# 10. Write code to demonstrate type casting with list elements.\n",
        "values = [\"1\", \"2\", \"3\"]\n",
        "int_values = [int(x) for x in values]\n",
        "print(\"Converted to integers:\", int_values)\n"
      ],
      "metadata": {
        "colab": {
          "base_uri": "https://localhost:8080/"
        },
        "id": "H0E5el68HDDJ",
        "outputId": "bbf4c857-ddef-4302-bcbc-4dc255d2760e"
      },
      "execution_count": null,
      "outputs": [
        {
          "output_type": "stream",
          "name": "stdout",
          "text": [
            "Converted to integers: [1, 2, 3]\n"
          ]
        }
      ]
    },
    {
      "cell_type": "code",
      "source": [
        "# 11. Write a program that checks if a number is positive, negative, or zero.\n",
        "num = int(input(\"Enter a number: \"))\n",
        "\n",
        "if num > 0:\n",
        "    print(\"Positive\")\n",
        "elif num < 0:\n",
        "    print(\"Negative\")\n",
        "else:\n",
        "    print(\"Zero\")"
      ],
      "metadata": {
        "colab": {
          "base_uri": "https://localhost:8080/"
        },
        "id": "hW85_k3hHUIH",
        "outputId": "8735a1bb-dd0b-4789-afbe-1da901cba710"
      },
      "execution_count": null,
      "outputs": [
        {
          "output_type": "stream",
          "name": "stdout",
          "text": [
            "Enter a number: 4\n",
            "Positive\n"
          ]
        }
      ]
    },
    {
      "cell_type": "code",
      "source": [
        "# 12. Write a for loop to print numbers from 1 to 10.\n",
        "for i in range(1, 11):\n",
        "    print(i)"
      ],
      "metadata": {
        "colab": {
          "base_uri": "https://localhost:8080/"
        },
        "id": "jgo2Zd_XHZ-v",
        "outputId": "23aab3c5-c67a-4e90-ec8e-2457f542779f"
      },
      "execution_count": null,
      "outputs": [
        {
          "output_type": "stream",
          "name": "stdout",
          "text": [
            "1\n",
            "2\n",
            "3\n",
            "4\n",
            "5\n",
            "6\n",
            "7\n",
            "8\n",
            "9\n",
            "10\n"
          ]
        }
      ]
    },
    {
      "cell_type": "code",
      "source": [
        "# 13. Write a Python program to find the sum of all even numbers between 1 and 50.\n",
        "total = 0\n",
        "for i in range(1, 51):\n",
        "    if i % 2 == 0:\n",
        "        total += i\n",
        "print(\"Sum of even numbers from 1 to 50:\", total)"
      ],
      "metadata": {
        "colab": {
          "base_uri": "https://localhost:8080/"
        },
        "id": "KQZRn40hHiEG",
        "outputId": "1889e8ed-cb8c-4045-a702-8ceb07752421"
      },
      "execution_count": null,
      "outputs": [
        {
          "output_type": "stream",
          "name": "stdout",
          "text": [
            "Sum of even numbers from 1 to 50: 650\n"
          ]
        }
      ]
    },
    {
      "cell_type": "code",
      "source": [
        "# 14. Write a program to reverse a string using a while loop.\n",
        "text = input(\"Enter a string: \")\n",
        "reversed_text = \"\"\n",
        "i = len(text) - 1\n",
        "\n",
        "while i >= 0:\n",
        "    reversed_text += text[i]\n",
        "    i -= 1\n",
        "\n",
        "print(\"Reversed string:\", reversed_text)"
      ],
      "metadata": {
        "colab": {
          "base_uri": "https://localhost:8080/"
        },
        "id": "RXWSRuOHHmSQ",
        "outputId": "eacde046-c317-45fa-b3ed-37dc41abac79"
      },
      "execution_count": null,
      "outputs": [
        {
          "output_type": "stream",
          "name": "stdout",
          "text": [
            "Enter a string: 5\n",
            "Reversed string: 5\n"
          ]
        }
      ]
    },
    {
      "cell_type": "code",
      "source": [
        "# 15. Write a Python program to calculate the factorial of a number provided by the user using a while loop.\n",
        "num = int(input(\"Enter a number: \"))\n",
        "result = 1\n",
        "i = 1\n",
        "\n",
        "while i <= num:\n",
        "    result *= i\n",
        "    i += 1\n",
        "\n",
        "print(\"Factorial is:\", result)"
      ],
      "metadata": {
        "colab": {
          "base_uri": "https://localhost:8080/"
        },
        "id": "neX7hBapHtN1",
        "outputId": "9166dee6-fbd9-4e36-b6bc-427321869582"
      },
      "execution_count": null,
      "outputs": [
        {
          "output_type": "stream",
          "name": "stdout",
          "text": [
            "Enter a number: 111\n",
            "Factorial is: 1762952551090244663872161047107075788761409536026565516041574063347346955087248316436555574598462315773196047662837978913145847497199871623320096254145331200000000000000000000000000\n"
          ]
        }
      ]
    }
  ]
}